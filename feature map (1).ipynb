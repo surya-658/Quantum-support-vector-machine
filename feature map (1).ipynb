{
 "cells": [
  {
   "cell_type": "code",
   "execution_count": null,
   "id": "d6d5cd1a-b639-4f57-b3ef-0ead54f82648",
   "metadata": {},
   "outputs": [],
   "source": [
    "#feature map\n",
    "#feature map encodes a classical data point into a quantum state using a quantum circuit\n",
    "def feature_map(circuit , data):\n",
    "    n = len(data)\n",
    "    for i  in range(len(data)):\n",
    "        circuit.h(i)\n",
    "    for i , value in enumerate(data):\n",
    "        value  = float(value)\n",
    "        circuit.rx(2 *np.pi * value,i)\n",
    "        circuit.ry(2 *np.pi * value,i)\n",
    "    return circuit\n",
    "data_point = X_train_pca[0]\n",
    "\n",
    "c = QuantumCircuit(len(data_point))\n",
    "c = feature_map(c, data_point)\n",
    "\n",
    "c.draw()"
   ]
  }
 ],
 "metadata": {
  "kernelspec": {
   "display_name": "Python 3 (ipykernel)",
   "language": "python",
   "name": "python3"
  },
  "language_info": {
   "codemirror_mode": {
    "name": "ipython",
    "version": 3
   },
   "file_extension": ".py",
   "mimetype": "text/x-python",
   "name": "python",
   "nbconvert_exporter": "python",
   "pygments_lexer": "ipython3",
   "version": "3.12.5"
  }
 },
 "nbformat": 4,
 "nbformat_minor": 5
}

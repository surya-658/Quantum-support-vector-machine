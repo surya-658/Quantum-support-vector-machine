{
 "cells": [
  {
   "cell_type": "code",
   "execution_count": 1,
   "id": "3a162f60-664c-4f3f-a1b5-33c02efd52c0",
   "metadata": {},
   "outputs": [],
   "source": [
    "from qiskit_aer import Aer , AerSimulator\n",
    "def quantum_kernel(x1,x2):\n",
    "    n = len(x1)\n",
    "    circuit1 = QuantumCircuit(n)\n",
    "    circuit2 = QuantumCircuit(n)\n",
    "\n",
    "    circuit1 = feature_map(circuit1,x1)\n",
    "    circuit2 = feature_map(circuit2,x2)\n",
    "\n",
    "    circuit = QuantumCircuit(2*n + 1,1)\n",
    "\n",
    "    circuit.append(circuit1, range(n))\n",
    "    circuit.append(circuit2, range(n, 2*n))\n",
    "\n",
    "    circuit.h(2*n)\n",
    "    for i in range(n):\n",
    "        circuit.cswap(2*n, i, n+i)\n",
    "    circuit.h(2*n)\n",
    "    \n",
    "    circuit.measure(2*n,0)\n",
    "\n",
    "    return circuit"
   ]
  },
  {
   "cell_type": "code",
   "execution_count": null,
   "id": "f2f9f05d-aa98-4c14-b101-da0e535f124d",
   "metadata": {},
   "outputs": [],
   "source": []
  }
 ],
 "metadata": {
  "kernelspec": {
   "display_name": "Python 3 (ipykernel)",
   "language": "python",
   "name": "python3"
  },
  "language_info": {
   "codemirror_mode": {
    "name": "ipython",
    "version": 3
   },
   "file_extension": ".py",
   "mimetype": "text/x-python",
   "name": "python",
   "nbconvert_exporter": "python",
   "pygments_lexer": "ipython3",
   "version": "3.12.5"
  }
 },
 "nbformat": 4,
 "nbformat_minor": 5
}
